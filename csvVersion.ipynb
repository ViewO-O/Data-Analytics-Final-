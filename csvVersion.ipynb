{
 "cells": [
  {
   "cell_type": "code",
   "execution_count": 20,
   "id": "e6cb113c-9ddf-4a9f-9ba5-bc74ecafbcbe",
   "metadata": {},
   "outputs": [],
   "source": [
    "import pandas as pd\n",
    "import numpy as np"
   ]
  },
  {
   "cell_type": "code",
   "execution_count": 21,
   "id": "024c8ff9-526c-4bbc-b898-61838f116154",
   "metadata": {},
   "outputs": [],
   "source": [
    "data = pd.DataFrame()\n",
    "data = pd.read_csv(\"D:/660710616/play_tennis/play_tennis.csv\")"
   ]
  },
  {
   "cell_type": "code",
   "execution_count": 22,
   "id": "72659c80-b533-4509-b1dd-e7be4d177bd8",
   "metadata": {},
   "outputs": [
    {
     "data": {
      "text/html": [
       "<div>\n",
       "<style scoped>\n",
       "    .dataframe tbody tr th:only-of-type {\n",
       "        vertical-align: middle;\n",
       "    }\n",
       "\n",
       "    .dataframe tbody tr th {\n",
       "        vertical-align: top;\n",
       "    }\n",
       "\n",
       "    .dataframe thead th {\n",
       "        text-align: right;\n",
       "    }\n",
       "</style>\n",
       "<table border=\"1\" class=\"dataframe\">\n",
       "  <thead>\n",
       "    <tr style=\"text-align: right;\">\n",
       "      <th></th>\n",
       "      <th>outlook</th>\n",
       "      <th>temperature</th>\n",
       "      <th>humidity</th>\n",
       "      <th>windy</th>\n",
       "      <th>play</th>\n",
       "    </tr>\n",
       "  </thead>\n",
       "  <tbody>\n",
       "    <tr>\n",
       "      <th>0</th>\n",
       "      <td>sunny</td>\n",
       "      <td>hot</td>\n",
       "      <td>high</td>\n",
       "      <td>weak</td>\n",
       "      <td>no</td>\n",
       "    </tr>\n",
       "    <tr>\n",
       "      <th>1</th>\n",
       "      <td>sunny</td>\n",
       "      <td>hot</td>\n",
       "      <td>high</td>\n",
       "      <td>strong</td>\n",
       "      <td>no</td>\n",
       "    </tr>\n",
       "    <tr>\n",
       "      <th>2</th>\n",
       "      <td>overcast</td>\n",
       "      <td>hot</td>\n",
       "      <td>high</td>\n",
       "      <td>weak</td>\n",
       "      <td>yes</td>\n",
       "    </tr>\n",
       "    <tr>\n",
       "      <th>3</th>\n",
       "      <td>rainy</td>\n",
       "      <td>mild</td>\n",
       "      <td>high</td>\n",
       "      <td>weak</td>\n",
       "      <td>yes</td>\n",
       "    </tr>\n",
       "    <tr>\n",
       "      <th>4</th>\n",
       "      <td>rainy</td>\n",
       "      <td>cool</td>\n",
       "      <td>normal</td>\n",
       "      <td>weak</td>\n",
       "      <td>yes</td>\n",
       "    </tr>\n",
       "    <tr>\n",
       "      <th>5</th>\n",
       "      <td>rainy</td>\n",
       "      <td>cool</td>\n",
       "      <td>normal</td>\n",
       "      <td>strong</td>\n",
       "      <td>no</td>\n",
       "    </tr>\n",
       "    <tr>\n",
       "      <th>6</th>\n",
       "      <td>overcast</td>\n",
       "      <td>cool</td>\n",
       "      <td>normal</td>\n",
       "      <td>strong</td>\n",
       "      <td>yes</td>\n",
       "    </tr>\n",
       "    <tr>\n",
       "      <th>7</th>\n",
       "      <td>sunny</td>\n",
       "      <td>mild</td>\n",
       "      <td>high</td>\n",
       "      <td>weak</td>\n",
       "      <td>no</td>\n",
       "    </tr>\n",
       "    <tr>\n",
       "      <th>8</th>\n",
       "      <td>sunny</td>\n",
       "      <td>cool</td>\n",
       "      <td>normal</td>\n",
       "      <td>weak</td>\n",
       "      <td>yes</td>\n",
       "    </tr>\n",
       "    <tr>\n",
       "      <th>9</th>\n",
       "      <td>rainy</td>\n",
       "      <td>mild</td>\n",
       "      <td>normal</td>\n",
       "      <td>weak</td>\n",
       "      <td>yes</td>\n",
       "    </tr>\n",
       "    <tr>\n",
       "      <th>10</th>\n",
       "      <td>sunny</td>\n",
       "      <td>mild</td>\n",
       "      <td>normal</td>\n",
       "      <td>strong</td>\n",
       "      <td>yes</td>\n",
       "    </tr>\n",
       "    <tr>\n",
       "      <th>11</th>\n",
       "      <td>overcast</td>\n",
       "      <td>mild</td>\n",
       "      <td>high</td>\n",
       "      <td>strong</td>\n",
       "      <td>yes</td>\n",
       "    </tr>\n",
       "    <tr>\n",
       "      <th>12</th>\n",
       "      <td>overcast</td>\n",
       "      <td>hot</td>\n",
       "      <td>normal</td>\n",
       "      <td>weak</td>\n",
       "      <td>yes</td>\n",
       "    </tr>\n",
       "    <tr>\n",
       "      <th>13</th>\n",
       "      <td>rainy</td>\n",
       "      <td>mild</td>\n",
       "      <td>high</td>\n",
       "      <td>strong</td>\n",
       "      <td>no</td>\n",
       "    </tr>\n",
       "  </tbody>\n",
       "</table>\n",
       "</div>"
      ],
      "text/plain": [
       "     outlook temperature humidity   windy play\n",
       "0      sunny         hot     high    weak   no\n",
       "1      sunny         hot     high  strong   no\n",
       "2   overcast         hot     high    weak  yes\n",
       "3      rainy        mild     high    weak  yes\n",
       "4      rainy        cool   normal    weak  yes\n",
       "5      rainy        cool   normal  strong   no\n",
       "6   overcast        cool   normal  strong  yes\n",
       "7      sunny        mild     high    weak   no\n",
       "8      sunny        cool   normal    weak  yes\n",
       "9      rainy        mild   normal    weak  yes\n",
       "10     sunny        mild   normal  strong  yes\n",
       "11  overcast        mild     high  strong  yes\n",
       "12  overcast         hot   normal    weak  yes\n",
       "13     rainy        mild     high  strong   no"
      ]
     },
     "execution_count": 22,
     "metadata": {},
     "output_type": "execute_result"
    }
   ],
   "source": [
    "data"
   ]
  },
  {
   "cell_type": "code",
   "execution_count": 23,
   "id": "53f2a24d-06d8-4b5f-8272-f5b9c959566c",
   "metadata": {},
   "outputs": [
    {
     "data": {
      "text/html": [
       "<div>\n",
       "<style scoped>\n",
       "    .dataframe tbody tr th:only-of-type {\n",
       "        vertical-align: middle;\n",
       "    }\n",
       "\n",
       "    .dataframe tbody tr th {\n",
       "        vertical-align: top;\n",
       "    }\n",
       "\n",
       "    .dataframe thead th {\n",
       "        text-align: right;\n",
       "    }\n",
       "</style>\n",
       "<table border=\"1\" class=\"dataframe\">\n",
       "  <thead>\n",
       "    <tr style=\"text-align: right;\">\n",
       "      <th></th>\n",
       "      <th>outlook</th>\n",
       "      <th>temperature</th>\n",
       "      <th>windy</th>\n",
       "    </tr>\n",
       "  </thead>\n",
       "  <tbody>\n",
       "    <tr>\n",
       "      <th>0</th>\n",
       "      <td>rainy</td>\n",
       "      <td>cool</td>\n",
       "      <td>weak</td>\n",
       "    </tr>\n",
       "  </tbody>\n",
       "</table>\n",
       "</div>"
      ],
      "text/plain": [
       "  outlook temperature windy\n",
       "0   rainy        cool  weak"
      ]
     },
     "execution_count": 23,
     "metadata": {},
     "output_type": "execute_result"
    }
   ],
   "source": [
    "new = pd.DataFrame()\n",
    "\n",
    "# สร้างข้อมูลที่เป็น new data \n",
    "new['outlook'] = ['rainy']\n",
    "new['temperature'] = ['cool']\n",
    "new['windy'] = ['weak']\n",
    "\n",
    "# View the data \n",
    "new"
   ]
  },
  {
   "cell_type": "code",
   "execution_count": 29,
   "id": "e494dbab-c3b7-4bfa-9c39-0d12ff0bc182",
   "metadata": {},
   "outputs": [
    {
     "name": "stdout",
     "output_type": "stream",
     "text": [
      "9 5 14\n"
     ]
    }
   ],
   "source": [
    "# นับจำนวน yes\n",
    "n_yes = len(data[data['play'] == 'yes'])  #len(object) เป็น function ใช้นับจำนวน object\n",
    "\n",
    "# นับจำนวน no\n",
    "n_no = len(data[data['play'] == 'no']) \n",
    "\n",
    "# นับจำนวนที่เล่นทั้งหมด\n",
    "total_play = len(data['play'])\n",
    "\n",
    "print(n_yes,n_no,total_play)"
   ]
  },
  {
   "cell_type": "code",
   "execution_count": 25,
   "id": "6d9018a7-61eb-4986-bc4e-34688f97d4a3",
   "metadata": {},
   "outputs": [
    {
     "name": "stdout",
     "output_type": "stream",
     "text": [
      "3 3 6\n"
     ]
    }
   ],
   "source": [
    "n_rain_yes = len(data[(data['outlook'] == 'rainy') & (data['play'] == 'yes')])\n",
    "\n",
    "n_cool_yes = len(data[(data['temperature'] == 'cool') & (data['play'] == 'yes')])\n",
    "\n",
    "n_weak_yes = len(data[(data['windy'] == 'weak') & (data['play'] == 'yes')])\n",
    "\n",
    "print(n_rain_yes,n_cool_yes,n_weak_yes)\n"
   ]
  },
  {
   "cell_type": "code",
   "execution_count": 26,
   "id": "7bcda529-6148-4215-aa44-03c96324708b",
   "metadata": {},
   "outputs": [
    {
     "name": "stdout",
     "output_type": "stream",
     "text": [
      "2 1 2\n"
     ]
    }
   ],
   "source": [
    "n_rain_no = len(data[(data['outlook'] == 'rainy') & (data['play'] == 'no')])\\\n",
    "\n",
    "n_cool_no = len(data[(data['temperature'] == 'cool') & (data['play'] == 'no')])\n",
    "\n",
    "n_weak_no = len(data[(data['windy'] == 'weak') & (data['play'] == 'no')])\n",
    "\n",
    "print(n_rain_no,n_cool_no,n_weak_no)\n"
   ]
  },
  {
   "cell_type": "code",
   "execution_count": 34,
   "id": "8c169f16-56f3-4502-8199-043cbf309ecc",
   "metadata": {},
   "outputs": [
    {
     "name": "stdout",
     "output_type": "stream",
     "text": [
      "0.3333333333333333 0.3333333333333333 0.6666666666666666\n",
      "0.4 0.2 0.4\n"
     ]
    }
   ],
   "source": [
    "p_yes = n_yes/total_play \n",
    "p_no = n_no/total_play \n",
    "\n",
    "p_rain_yes = n_rain_yes/n_yes\n",
    "\n",
    "p_cool_yes = n_cool_yes/n_yes\n",
    "\n",
    "p_weak_yes = n_weak_yes/n_yes\n",
    "\n",
    "p_rain_no = n_rain_no/n_no\n",
    "p_cool_no = n_cool_no/n_no\n",
    "p_weak_no = n_weak_no/n_no\n",
    "\n",
    "print(p_rain_yes,p_cool_yes,p_weak_yes)\n",
    "print(p_rain_no,p_cool_no,p_weak_no)\n",
    "\n",
    "\n"
   ]
  },
  {
   "cell_type": "code",
   "execution_count": 35,
   "id": "5432b359-bb3c-4faa-a893-f674a784dad8",
   "metadata": {},
   "outputs": [],
   "source": [
    "p_rain_cool_weak_yes = p_rain_yes * p_cool_yes * p_weak_yes * p_yes\n",
    "p_rain_cool_weak_no = p_rain_no * p_cool_no * p_weak_no * p_no"
   ]
  },
  {
   "cell_type": "code",
   "execution_count": 36,
   "id": "3adf11b9-3416-45d8-ac48-7affff1c585d",
   "metadata": {},
   "outputs": [
    {
     "name": "stdout",
     "output_type": "stream",
     "text": [
      "0.3333333333333333 0.3333333333333333 0.6666666666666666 0.6428571428571429\n"
     ]
    }
   ],
   "source": [
    "print(p_rain_yes,p_cool_yes,p_weak_yes,p_yes)"
   ]
  },
  {
   "cell_type": "code",
   "execution_count": 37,
   "id": "819b4180-427f-47da-a282-bebdf2112037",
   "metadata": {},
   "outputs": [
    {
     "name": "stdout",
     "output_type": "stream",
     "text": [
      "0.4 0.2 0.4 0.35714285714285715\n"
     ]
    }
   ],
   "source": [
    "print(p_rain_no,p_cool_no,p_weak_no,p_no)"
   ]
  },
  {
   "cell_type": "code",
   "execution_count": 38,
   "id": "7e45aab3-361e-412a-8040-096dff6e330a",
   "metadata": {},
   "outputs": [
    {
     "name": "stdout",
     "output_type": "stream",
     "text": [
      "p_rain_cool_weak_yes =  0.04761904761904762\n",
      "p_rain_cool_weak_no =  0.011428571428571432\n"
     ]
    }
   ],
   "source": [
    "print('p_rain_cool_weak_yes = ', p_rain_cool_weak_yes)\n",
    "print('p_rain_cool_weak_no = ', p_rain_cool_weak_no)"
   ]
  },
  {
   "cell_type": "code",
   "execution_count": null,
   "id": "ccc54159-7b6d-4e6c-b879-6a857d75d26f",
   "metadata": {},
   "outputs": [],
   "source": [
    "ค่า P(play = no|new) (=0.01714) มีค่ามากกว่า P(play = yes|new) (=0.03968) ดังนั้นโมเดลจึงทำนายว่าข้อมูลตัวอย่างนี้มีค่าคลาส play = yes เล่น tennis¶"
   ]
  }
 ],
 "metadata": {
  "kernelspec": {
   "display_name": "Python 3 (ipykernel)",
   "language": "python",
   "name": "python3"
  },
  "language_info": {
   "codemirror_mode": {
    "name": "ipython",
    "version": 3
   },
   "file_extension": ".py",
   "mimetype": "text/x-python",
   "name": "python",
   "nbconvert_exporter": "python",
   "pygments_lexer": "ipython3",
   "version": "3.11.7"
  }
 },
 "nbformat": 4,
 "nbformat_minor": 5
}
