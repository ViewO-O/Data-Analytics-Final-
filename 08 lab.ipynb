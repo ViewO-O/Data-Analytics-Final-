{
 "cells": [
  {
   "cell_type": "code",
   "execution_count": 162,
   "id": "f1ae940d",
   "metadata": {},
   "outputs": [],
   "source": [
    "import pandas as pd\n",
    "import numpy as np"
   ]
  },
  {
   "cell_type": "code",
   "execution_count": 163,
   "id": "9fbe4e1d",
   "metadata": {},
   "outputs": [
    {
     "data": {
      "text/html": [
       "<div>\n",
       "<style scoped>\n",
       "    .dataframe tbody tr th:only-of-type {\n",
       "        vertical-align: middle;\n",
       "    }\n",
       "\n",
       "    .dataframe tbody tr th {\n",
       "        vertical-align: top;\n",
       "    }\n",
       "\n",
       "    .dataframe thead th {\n",
       "        text-align: right;\n",
       "    }\n",
       "</style>\n",
       "<table border=\"1\" class=\"dataframe\">\n",
       "  <thead>\n",
       "    <tr style=\"text-align: right;\">\n",
       "      <th></th>\n",
       "      <th>outlook</th>\n",
       "      <th>temperature</th>\n",
       "      <th>humidity</th>\n",
       "      <th>windy</th>\n",
       "      <th>play</th>\n",
       "    </tr>\n",
       "  </thead>\n",
       "  <tbody>\n",
       "    <tr>\n",
       "      <th>0</th>\n",
       "      <td>sunny</td>\n",
       "      <td>hot</td>\n",
       "      <td>high</td>\n",
       "      <td>weak</td>\n",
       "      <td>no</td>\n",
       "    </tr>\n",
       "    <tr>\n",
       "      <th>1</th>\n",
       "      <td>sunny</td>\n",
       "      <td>hot</td>\n",
       "      <td>high</td>\n",
       "      <td>strong</td>\n",
       "      <td>no</td>\n",
       "    </tr>\n",
       "    <tr>\n",
       "      <th>2</th>\n",
       "      <td>overcast</td>\n",
       "      <td>hot</td>\n",
       "      <td>high</td>\n",
       "      <td>weak</td>\n",
       "      <td>yes</td>\n",
       "    </tr>\n",
       "    <tr>\n",
       "      <th>3</th>\n",
       "      <td>rainy</td>\n",
       "      <td>mild</td>\n",
       "      <td>high</td>\n",
       "      <td>weak</td>\n",
       "      <td>yes</td>\n",
       "    </tr>\n",
       "    <tr>\n",
       "      <th>4</th>\n",
       "      <td>rainy</td>\n",
       "      <td>cool</td>\n",
       "      <td>normal</td>\n",
       "      <td>weak</td>\n",
       "      <td>yes</td>\n",
       "    </tr>\n",
       "    <tr>\n",
       "      <th>5</th>\n",
       "      <td>rainy</td>\n",
       "      <td>cool</td>\n",
       "      <td>normal</td>\n",
       "      <td>strong</td>\n",
       "      <td>no</td>\n",
       "    </tr>\n",
       "    <tr>\n",
       "      <th>6</th>\n",
       "      <td>overcast</td>\n",
       "      <td>cool</td>\n",
       "      <td>normal</td>\n",
       "      <td>strong</td>\n",
       "      <td>yes</td>\n",
       "    </tr>\n",
       "    <tr>\n",
       "      <th>7</th>\n",
       "      <td>sunny</td>\n",
       "      <td>mild</td>\n",
       "      <td>high</td>\n",
       "      <td>weak</td>\n",
       "      <td>no</td>\n",
       "    </tr>\n",
       "    <tr>\n",
       "      <th>8</th>\n",
       "      <td>sunny</td>\n",
       "      <td>cool</td>\n",
       "      <td>normal</td>\n",
       "      <td>weak</td>\n",
       "      <td>yes</td>\n",
       "    </tr>\n",
       "    <tr>\n",
       "      <th>9</th>\n",
       "      <td>rainy</td>\n",
       "      <td>mild</td>\n",
       "      <td>normal</td>\n",
       "      <td>weak</td>\n",
       "      <td>yes</td>\n",
       "    </tr>\n",
       "    <tr>\n",
       "      <th>10</th>\n",
       "      <td>sunny</td>\n",
       "      <td>mild</td>\n",
       "      <td>normal</td>\n",
       "      <td>strong</td>\n",
       "      <td>yes</td>\n",
       "    </tr>\n",
       "    <tr>\n",
       "      <th>11</th>\n",
       "      <td>overcast</td>\n",
       "      <td>mild</td>\n",
       "      <td>high</td>\n",
       "      <td>strong</td>\n",
       "      <td>yes</td>\n",
       "    </tr>\n",
       "    <tr>\n",
       "      <th>12</th>\n",
       "      <td>overcast</td>\n",
       "      <td>hot</td>\n",
       "      <td>normal</td>\n",
       "      <td>weak</td>\n",
       "      <td>yes</td>\n",
       "    </tr>\n",
       "    <tr>\n",
       "      <th>13</th>\n",
       "      <td>rainy</td>\n",
       "      <td>mild</td>\n",
       "      <td>high</td>\n",
       "      <td>strong</td>\n",
       "      <td>no</td>\n",
       "    </tr>\n",
       "  </tbody>\n",
       "</table>\n",
       "</div>"
      ],
      "text/plain": [
       "     outlook temperature humidity   windy play\n",
       "0      sunny         hot     high    weak   no\n",
       "1      sunny         hot     high  strong   no\n",
       "2   overcast         hot     high    weak  yes\n",
       "3      rainy        mild     high    weak  yes\n",
       "4      rainy        cool   normal    weak  yes\n",
       "5      rainy        cool   normal  strong   no\n",
       "6   overcast        cool   normal  strong  yes\n",
       "7      sunny        mild     high    weak   no\n",
       "8      sunny        cool   normal    weak  yes\n",
       "9      rainy        mild   normal    weak  yes\n",
       "10     sunny        mild   normal  strong  yes\n",
       "11  overcast        mild     high  strong  yes\n",
       "12  overcast         hot   normal    weak  yes\n",
       "13     rainy        mild     high  strong   no"
      ]
     },
     "execution_count": 163,
     "metadata": {},
     "output_type": "execute_result"
    }
   ],
   "source": [
    "play_tennis  = pd.read_csv(\"D:/660710616/play_tennis/play_tennis.csv\")\n",
    "play_tennis"
   ]
  },
  {
   "cell_type": "code",
   "execution_count": 164,
   "id": "dd5cb7a5",
   "metadata": {},
   "outputs": [
    {
     "data": {
      "text/html": [
       "<div>\n",
       "<style scoped>\n",
       "    .dataframe tbody tr th:only-of-type {\n",
       "        vertical-align: middle;\n",
       "    }\n",
       "\n",
       "    .dataframe tbody tr th {\n",
       "        vertical-align: top;\n",
       "    }\n",
       "\n",
       "    .dataframe thead th {\n",
       "        text-align: right;\n",
       "    }\n",
       "</style>\n",
       "<table border=\"1\" class=\"dataframe\">\n",
       "  <thead>\n",
       "    <tr style=\"text-align: right;\">\n",
       "      <th></th>\n",
       "      <th>outlook</th>\n",
       "      <th>temperature</th>\n",
       "      <th>humidity</th>\n",
       "      <th>windy</th>\n",
       "      <th>play</th>\n",
       "    </tr>\n",
       "  </thead>\n",
       "  <tbody>\n",
       "    <tr>\n",
       "      <th>0</th>\n",
       "      <td>2</td>\n",
       "      <td>1</td>\n",
       "      <td>0</td>\n",
       "      <td>1</td>\n",
       "      <td>no</td>\n",
       "    </tr>\n",
       "    <tr>\n",
       "      <th>1</th>\n",
       "      <td>2</td>\n",
       "      <td>1</td>\n",
       "      <td>0</td>\n",
       "      <td>0</td>\n",
       "      <td>no</td>\n",
       "    </tr>\n",
       "    <tr>\n",
       "      <th>2</th>\n",
       "      <td>0</td>\n",
       "      <td>1</td>\n",
       "      <td>0</td>\n",
       "      <td>1</td>\n",
       "      <td>yes</td>\n",
       "    </tr>\n",
       "    <tr>\n",
       "      <th>3</th>\n",
       "      <td>1</td>\n",
       "      <td>2</td>\n",
       "      <td>0</td>\n",
       "      <td>1</td>\n",
       "      <td>yes</td>\n",
       "    </tr>\n",
       "    <tr>\n",
       "      <th>4</th>\n",
       "      <td>1</td>\n",
       "      <td>0</td>\n",
       "      <td>1</td>\n",
       "      <td>1</td>\n",
       "      <td>yes</td>\n",
       "    </tr>\n",
       "    <tr>\n",
       "      <th>5</th>\n",
       "      <td>1</td>\n",
       "      <td>0</td>\n",
       "      <td>1</td>\n",
       "      <td>0</td>\n",
       "      <td>no</td>\n",
       "    </tr>\n",
       "    <tr>\n",
       "      <th>6</th>\n",
       "      <td>0</td>\n",
       "      <td>0</td>\n",
       "      <td>1</td>\n",
       "      <td>0</td>\n",
       "      <td>yes</td>\n",
       "    </tr>\n",
       "    <tr>\n",
       "      <th>7</th>\n",
       "      <td>2</td>\n",
       "      <td>2</td>\n",
       "      <td>0</td>\n",
       "      <td>1</td>\n",
       "      <td>no</td>\n",
       "    </tr>\n",
       "    <tr>\n",
       "      <th>8</th>\n",
       "      <td>2</td>\n",
       "      <td>0</td>\n",
       "      <td>1</td>\n",
       "      <td>1</td>\n",
       "      <td>yes</td>\n",
       "    </tr>\n",
       "    <tr>\n",
       "      <th>9</th>\n",
       "      <td>1</td>\n",
       "      <td>2</td>\n",
       "      <td>1</td>\n",
       "      <td>1</td>\n",
       "      <td>yes</td>\n",
       "    </tr>\n",
       "    <tr>\n",
       "      <th>10</th>\n",
       "      <td>2</td>\n",
       "      <td>2</td>\n",
       "      <td>1</td>\n",
       "      <td>0</td>\n",
       "      <td>yes</td>\n",
       "    </tr>\n",
       "    <tr>\n",
       "      <th>11</th>\n",
       "      <td>0</td>\n",
       "      <td>2</td>\n",
       "      <td>0</td>\n",
       "      <td>0</td>\n",
       "      <td>yes</td>\n",
       "    </tr>\n",
       "    <tr>\n",
       "      <th>12</th>\n",
       "      <td>0</td>\n",
       "      <td>1</td>\n",
       "      <td>1</td>\n",
       "      <td>1</td>\n",
       "      <td>yes</td>\n",
       "    </tr>\n",
       "    <tr>\n",
       "      <th>13</th>\n",
       "      <td>1</td>\n",
       "      <td>2</td>\n",
       "      <td>0</td>\n",
       "      <td>0</td>\n",
       "      <td>no</td>\n",
       "    </tr>\n",
       "  </tbody>\n",
       "</table>\n",
       "</div>"
      ],
      "text/plain": [
       "    outlook  temperature  humidity  windy play\n",
       "0         2            1         0      1   no\n",
       "1         2            1         0      0   no\n",
       "2         0            1         0      1  yes\n",
       "3         1            2         0      1  yes\n",
       "4         1            0         1      1  yes\n",
       "5         1            0         1      0   no\n",
       "6         0            0         1      0  yes\n",
       "7         2            2         0      1   no\n",
       "8         2            0         1      1  yes\n",
       "9         1            2         1      1  yes\n",
       "10        2            2         1      0  yes\n",
       "11        0            2         0      0  yes\n",
       "12        0            1         1      1  yes\n",
       "13        1            2         0      0   no"
      ]
     },
     "execution_count": 164,
     "metadata": {},
     "output_type": "execute_result"
    }
   ],
   "source": [
    "# encode temp and play columns.\n",
    "# Converting string labels into numbers\n",
    "\n",
    "# Import LabelEncoder\n",
    "from sklearn import preprocessing\n",
    "\n",
    "#creating labelEncoder\n",
    "number = preprocessing.LabelEncoder()\n",
    "\n",
    "play_tennis['outlook'] = number.fit_transform(play_tennis['outlook'])\n",
    "play_tennis['temperature'] = number.fit_transform(play_tennis['temperature'])\n",
    "play_tennis['humidity'] = number.fit_transform(play_tennis['humidity'])\n",
    "play_tennis['windy'] = number.fit_transform(play_tennis['windy'])\n",
    "#play_tennis['play'] = number.fit_transform(play_tennis['play'])\n",
    "\n",
    "play_tennis"
   ]
  },
  {
   "cell_type": "code",
   "execution_count": 165,
   "id": "1abcdbec",
   "metadata": {},
   "outputs": [],
   "source": [
    "#Import Library of Naive Bayes\n",
    "from sklearn.naive_bayes import GaussianNB, BernoulliNB, MultinomialNB, CategoricalNB\n",
    "\n",
    "Gaussian_NB = GaussianNB()\n",
    "Bernoulli_NB = BernoulliNB()\n",
    "Multinomial_NB = MultinomialNB()\n",
    "Categorical_NB = CategoricalNB()"
   ]
  },
  {
   "cell_type": "code",
   "execution_count": 92,
   "id": "7c218fc9",
   "metadata": {},
   "outputs": [
    {
     "name": "stdout",
     "output_type": "stream",
     "text": [
      "9 5 9 5\n",
      "    outlook  temperature  humidity  windy\n",
      "13        1            2         0      0\n",
      "11        0            2         0      0\n",
      "4         1            0         1      1\n",
      "8         2            0         1      1\n",
      "9         1            2         1      1\n",
      "0         2            1         0      1\n",
      "12        0            1         1      1\n",
      "6         0            0         1      0\n",
      "3         1            2         0      1 13     no\n",
      "11    yes\n",
      "4     yes\n",
      "8     yes\n",
      "9     yes\n",
      "0      no\n",
      "12    yes\n",
      "6     yes\n",
      "3     yes\n",
      "Name: play, dtype: object\n",
      "    outlook  temperature  humidity  windy\n",
      "5         1            0         1      0\n",
      "1         2            1         0      0\n",
      "7         2            2         0      1\n",
      "2         0            1         0      1\n",
      "10        2            2         1      0 5      no\n",
      "1      no\n",
      "7      no\n",
      "2     yes\n",
      "10    yes\n",
      "Name: play, dtype: object\n"
     ]
    }
   ],
   "source": [
    "# Import train_test_split function\n",
    "\n",
    "from sklearn.model_selection import train_test_split\n",
    "\n",
    "X = play_tennis[['outlook','temperature', 'humidity','windy']]\n",
    "Y = play_tennis['play'] #label attribute\n",
    "\n",
    "\n",
    "\n",
    "# 70% training and 30% test\n",
    "# แบ่งข้อมูลที่ใช้สำหรับการสอน training set 70% \n",
    "# ข้อมูลที่ใช้สำหรับการทดสอบ test set 30%\n",
    "# test_size 0.3 ต้องการ testข้อมูลของ test set \n",
    "# random_stat คือ ค่า seed ที่กำหนดการ random กลุ่มข้อมูล เป็นเลขจำนวนเต็ม \n",
    "# เช่น random_state = 5 หมายถึงกำหนดเลขสุ่มขึ้นมาเพื่อให้ข้อมูล training และ test set มีสมาชิกตัวเดิม\n",
    "\n",
    "X_train, X_test, y_train, y_test = train_test_split(X,Y,test_size=0.3,random_state=5)\n",
    "\n",
    "print(len(X_train),len(X_test),len(y_train),len(y_test))\n",
    "#print(X_train, X_test, y_train, y_test)\n",
    "\n",
    "print(X_train,  y_train)\n",
    "\n",
    "print(X_test, y_test)"
   ]
  },
  {
   "cell_type": "code",
   "execution_count": 166,
   "id": "44041e6a",
   "metadata": {
    "scrolled": true
   },
   "outputs": [
    {
     "name": "stdout",
     "output_type": "stream",
     "text": [
      "Bernoulli Training Score 0.9090909090909091\n",
      "Bernoulli Test Score 0.3333333333333333\n",
      "Multinomial_NB Training Score 0.8181818181818182\n",
      "Multinomial_NB Test Score 0.0\n",
      "Gaussian_NB Training Score 0.7272727272727273\n",
      "Gaussian_NB Test Score 0.6666666666666666\n",
      "Categorical_NB Training Score 0.8181818181818182\n",
      "Categorical_NB Test Score 0.3333333333333333\n"
     ]
    }
   ],
   "source": [
    "#Train the model using the training sets\n",
    "Gaussian_NB.fit(X_train,y_train)\n",
    "Bernoulli_NB.fit(X_train,y_train)\n",
    "Multinomial_NB.fit(X_train,y_train)\n",
    "Categorical_NB.fit(X_train,y_train)\n",
    "\n",
    "\n",
    "#Predict the response for test dataset\n",
    "Y_Predict_GNB = Gaussian_NB.predict(X_test)\n",
    "Y_Predict_BNB = Bernoulli_NB.predict(X_test)\n",
    "Y_Predict_MNB = Multinomial_NB.predict(X_test)\n",
    "Y_Predict_CNB = Categorical_NB.predict(X_test)\n",
    "\n",
    "print(\"Bernoulli Training Score\", Bernoulli_NB.score(X_train,y_train))\n",
    "print(\"Bernoulli Test Score\", Bernoulli_NB.score(X_test,y_test))\n",
    "\n",
    "print(\"Multinomial_NB Training Score\", Multinomial_NB.score(X_train,y_train))\n",
    "print(\"Multinomial_NB Test Score\", Multinomial_NB.score(X_test,y_test))\n",
    "\n",
    "print(\"Gaussian_NB Training Score\", Gaussian_NB.score(X_train,y_train))\n",
    "print(\"Gaussian_NB Test Score\", Gaussian_NB.score(X_test,y_test))\n",
    "\n",
    "print(\"Categorical_NB Training Score\", Categorical_NB.score(X_train,y_train))\n",
    "print(\"Categorical_NB Test Score\", Categorical_NB.score(X_test,y_test))"
   ]
  },
  {
   "cell_type": "code",
   "execution_count": 167,
   "id": "53aefe9e",
   "metadata": {},
   "outputs": [
    {
     "name": "stdout",
     "output_type": "stream",
     "text": [
      "Gaussian Accuracy: 0.6666666666666666\n",
      "Bernoulli Accuracy: 0.3333333333333333\n",
      "Multinomial Accuracy: 0.0\n",
      "Categorical Accuracy: 0.3333333333333333\n"
     ]
    }
   ],
   "source": [
    "#Evaluating Model\n",
    "\n",
    "from sklearn import metrics\n",
    "\n",
    "# Model Accuracy, how often is the classifier correct?\n",
    "print(\"Gaussian Accuracy:\",metrics.accuracy_score(y_test, Y_Predict_GNB))\n",
    "print(\"Bernoulli Accuracy:\",metrics.accuracy_score(y_test, Y_Predict_BNB))\n",
    "print(\"Multinomial Accuracy:\",metrics.accuracy_score(y_test, Y_Predict_MNB))\n",
    "print(\"Categorical Accuracy:\",metrics.accuracy_score(y_test,Y_Predict_CNB))"
   ]
  },
  {
   "cell_type": "code",
   "execution_count": 168,
   "id": "633402df",
   "metadata": {
    "scrolled": true
   },
   "outputs": [
    {
     "name": "stdout",
     "output_type": "stream",
     "text": [
      "KNN Accuracy: 0.3333333333333333\n"
     ]
    }
   ],
   "source": [
    "#Import Library of K-Nearest Neighbor model\n",
    "from sklearn.neighbors import KNeighborsClassifier\n",
    "\n",
    "#Create a KNN Classifier\n",
    "KNN_model = KNeighborsClassifier(n_neighbors=3)\n",
    "KNN_model.fit(X_train,y_train)\n",
    "\n",
    "Y_Predict_KNN = KNN_model.predict(X_test)\n",
    "print(\"KNN Accuracy:\",metrics.accuracy_score(y_test, Y_Predict_KNN))"
   ]
  },
  {
   "cell_type": "code",
   "execution_count": 169,
   "id": "2cef17b8",
   "metadata": {},
   "outputs": [
    {
     "name": "stdout",
     "output_type": "stream",
     "text": [
      "Predicted Value: ['yes' 'yes']\n"
     ]
    },
    {
     "name": "stderr",
     "output_type": "stream",
     "text": [
      "C:\\ProgramData\\anaconda3\\Lib\\site-packages\\sklearn\\base.py:464: UserWarning: X does not have valid feature names, but BernoulliNB was fitted with feature names\n",
      "  warnings.warn(\n"
     ]
    }
   ],
   "source": [
    "#Predict new data ใช้ Bernoulli NB\n",
    "\n",
    "predicted= Bernoulli_NB.predict([[1,1,0,1],[2,2,1,0] ]) # 1:rain, 1:hot, 0:high, 1:weak\n",
    "print(\"Predicted Value:\", predicted)"
   ]
  },
  {
   "cell_type": "code",
   "execution_count": 170,
   "id": "08497d56",
   "metadata": {},
   "outputs": [
    {
     "name": "stdout",
     "output_type": "stream",
     "text": [
      "Predicted Value: ['yes' 'no' 'yes']\n"
     ]
    },
    {
     "name": "stderr",
     "output_type": "stream",
     "text": [
      "C:\\ProgramData\\anaconda3\\Lib\\site-packages\\sklearn\\base.py:464: UserWarning: X does not have valid feature names, but BernoulliNB was fitted with feature names\n",
      "  warnings.warn(\n"
     ]
    }
   ],
   "source": [
    "#Predict new data ใช้ Bernoulli NB\n",
    "\n",
    "predicted= Bernoulli_NB.predict([[0,0,0,1],[1,1,0,0],[2,2,0,1] ]) # 1:rain, 1:hot, 0:high, 1:weak\n",
    "print(\"Predicted Value:\", predicted)"
   ]
  },
  {
   "cell_type": "markdown",
   "id": "fb4cbc37",
   "metadata": {},
   "source": [
    "## Exercise"
   ]
  },
  {
   "cell_type": "markdown",
   "id": "f8fafae7",
   "metadata": {},
   "source": [
    "### เปรียบเทียบข้อมูล NB & KNN k=3 \n",
    "#### train 80 set 20\n",
    "\n",
    "\n",
    "\n",
    "\n",
    "\n"
   ]
  },
  {
   "cell_type": "code",
   "execution_count": 171,
   "id": "f5707774",
   "metadata": {},
   "outputs": [
    {
     "name": "stdout",
     "output_type": "stream",
     "text": [
      "11 3 11 3\n"
     ]
    }
   ],
   "source": [
    "# train 80 set 20\n",
    "X_train, X_test, y_train, y_test = train_test_split(X,Y,test_size=0.2,random_state=5)\n",
    "\n",
    "print(len(X_train),len(X_test),len(y_train),len(y_test))\n",
    "#print(X_train, X_test, y_train, y_test)\n",
    "\n",
    "#print(X_train,  y_train)\n",
    "\n",
    "#print(X_test, y_test)"
   ]
  },
  {
   "cell_type": "code",
   "execution_count": 172,
   "id": "a870a9a5",
   "metadata": {},
   "outputs": [
    {
     "name": "stdout",
     "output_type": "stream",
     "text": [
      "Bernoulli Training Score 0.9090909090909091\n",
      "Bernoulli Test Score 0.3333333333333333\n",
      "Multinomial_NB Training Score 0.8181818181818182\n",
      "Multinomial_NB Test Score 0.0\n",
      "Gaussian_NB Training Score 0.7272727272727273\n",
      "Gaussian_NB Test Score 0.6666666666666666\n",
      "Categorical_NB Training Score 0.8181818181818182\n",
      "Categorical_NB Test Score 0.3333333333333333\n"
     ]
    }
   ],
   "source": [
    "Y_Predict_GNB = Gaussian_NB.predict(X_test)\n",
    "Y_Predict_BNB = Bernoulli_NB.predict(X_test)\n",
    "Y_Predict_MNB = Multinomial_NB.predict(X_test)\n",
    "Y_Predict_CNB = Categorical_NB.predict(X_test)\n",
    "\n",
    "print(\"Bernoulli Training Score\", Bernoulli_NB.score(X_train,y_train))\n",
    "print(\"Bernoulli Test Score\", Bernoulli_NB.score(X_test,y_test))\n",
    "\n",
    "print(\"Multinomial_NB Training Score\", Multinomial_NB.score(X_train,y_train))\n",
    "print(\"Multinomial_NB Test Score\", Multinomial_NB.score(X_test,y_test))\n",
    "\n",
    "print(\"Gaussian_NB Training Score\", Gaussian_NB.score(X_train,y_train))\n",
    "print(\"Gaussian_NB Test Score\", Gaussian_NB.score(X_test,y_test))\n",
    "\n",
    "print(\"Categorical_NB Training Score\", Categorical_NB.score(X_train,y_train))\n",
    "print(\"Categorical_NB Test Score\", Categorical_NB.score(X_test,y_test))"
   ]
  },
  {
   "cell_type": "code",
   "execution_count": 173,
   "id": "16237f1f",
   "metadata": {},
   "outputs": [
    {
     "name": "stdout",
     "output_type": "stream",
     "text": [
      "Gaussian Accuracy: 0.6666666666666666\n",
      "Bernoulli Accuracy: 0.3333333333333333\n",
      "Multinomial Accuracy: 0.0\n",
      "Categorical Accuracy: 0.3333333333333333\n"
     ]
    }
   ],
   "source": [
    "print(\"Gaussian Accuracy:\",metrics.accuracy_score(y_test, Y_Predict_GNB))\n",
    "print(\"Bernoulli Accuracy:\",metrics.accuracy_score(y_test, Y_Predict_BNB))\n",
    "print(\"Multinomial Accuracy:\",metrics.accuracy_score(y_test, Y_Predict_MNB))\n",
    "print(\"Categorical Accuracy:\",metrics.accuracy_score(y_test,Y_Predict_CNB))"
   ]
  },
  {
   "cell_type": "code",
   "execution_count": 174,
   "id": "47dc3177",
   "metadata": {},
   "outputs": [
    {
     "name": "stdout",
     "output_type": "stream",
     "text": [
      "KNN Accuracy: 0.3333333333333333\n"
     ]
    }
   ],
   "source": [
    "KNN_model1 = KNeighborsClassifier(n_neighbors=3)\n",
    "KNN_model1.fit(X_train,y_train)\n",
    "\n",
    "Y_Predict_KNN1 = KNN_model1.predict(X_test)\n",
    "print(\"KNN Accuracy:\",metrics.accuracy_score(y_test, Y_Predict_KNN1))"
   ]
  },
  {
   "cell_type": "code",
   "execution_count": 175,
   "id": "0c3639bb",
   "metadata": {},
   "outputs": [
    {
     "data": {
      "text/html": [
       "<div>\n",
       "<style scoped>\n",
       "    .dataframe tbody tr th:only-of-type {\n",
       "        vertical-align: middle;\n",
       "    }\n",
       "\n",
       "    .dataframe tbody tr th {\n",
       "        vertical-align: top;\n",
       "    }\n",
       "\n",
       "    .dataframe thead th {\n",
       "        text-align: right;\n",
       "    }\n",
       "</style>\n",
       "<table border=\"1\" class=\"dataframe\">\n",
       "  <thead>\n",
       "    <tr style=\"text-align: right;\">\n",
       "      <th></th>\n",
       "      <th>outlook</th>\n",
       "      <th>temperature</th>\n",
       "      <th>humidity</th>\n",
       "      <th>windy</th>\n",
       "    </tr>\n",
       "  </thead>\n",
       "  <tbody>\n",
       "    <tr>\n",
       "      <th>0</th>\n",
       "      <td>sunny</td>\n",
       "      <td>hot</td>\n",
       "      <td>high</td>\n",
       "      <td>strong</td>\n",
       "    </tr>\n",
       "    <tr>\n",
       "      <th>1</th>\n",
       "      <td>overcast</td>\n",
       "      <td>hot</td>\n",
       "      <td>normal</td>\n",
       "      <td>weak</td>\n",
       "    </tr>\n",
       "    <tr>\n",
       "      <th>2</th>\n",
       "      <td>rainy</td>\n",
       "      <td>cool</td>\n",
       "      <td>normal</td>\n",
       "      <td>strong</td>\n",
       "    </tr>\n",
       "    <tr>\n",
       "      <th>3</th>\n",
       "      <td>sunny</td>\n",
       "      <td>mild</td>\n",
       "      <td>high</td>\n",
       "      <td>strong</td>\n",
       "    </tr>\n",
       "    <tr>\n",
       "      <th>4</th>\n",
       "      <td>rainy</td>\n",
       "      <td>mild</td>\n",
       "      <td>normal</td>\n",
       "      <td>weak</td>\n",
       "    </tr>\n",
       "  </tbody>\n",
       "</table>\n",
       "</div>"
      ],
      "text/plain": [
       "    outlook temperature humidity   windy\n",
       "0     sunny         hot     high  strong\n",
       "1  overcast         hot   normal    weak\n",
       "2     rainy        cool   normal  strong\n",
       "3     sunny        mild     high  strong\n",
       "4     rainy        mild   normal    weak"
      ]
     },
     "execution_count": 175,
     "metadata": {},
     "output_type": "execute_result"
    }
   ],
   "source": [
    "new_data = pd.DataFrame()\n",
    "new_data['outlook'] = ['sunny','overcast','rainy', 'sunny', 'rainy']\n",
    "new_data['temperature'] = ['hot','hot','cool', 'mild','mild']\n",
    "new_data['humidity'] = ['high', 'normal','normal','high','normal']\n",
    "new_data['windy'] = ['strong','weak', 'strong','strong', 'weak']\n",
    "\n",
    "new_data\n",
    "\n"
   ]
  },
  {
   "cell_type": "code",
   "execution_count": 176,
   "id": "f6953b51",
   "metadata": {},
   "outputs": [
    {
     "name": "stdout",
     "output_type": "stream",
     "text": [
      "   outlook  temperature  humidity  windy\n",
      "0        2            1         0      0\n",
      "1        0            1         1      1\n",
      "2        1            0         1      0\n",
      "3        2            2         0      0\n",
      "4        1            2         1      1\n"
     ]
    }
   ],
   "source": [
    "new_data['outlook'] = number.fit_transform(new_data['outlook'])\n",
    "new_data['temperature'] = number.fit_transform(new_data['temperature'])\n",
    "new_data['humidity'] = number.fit_transform(new_data['humidity'])\n",
    "new_data['windy'] = number.fit_transform(new_data['windy'])\n",
    "print(new_data)"
   ]
  },
  {
   "cell_type": "code",
   "execution_count": 177,
   "id": "5a4634c2",
   "metadata": {},
   "outputs": [
    {
     "name": "stdout",
     "output_type": "stream",
     "text": [
      "Predicted Value: ['no' 'yes' 'yes' 'no' 'yes']\n"
     ]
    },
    {
     "name": "stderr",
     "output_type": "stream",
     "text": [
      "C:\\ProgramData\\anaconda3\\Lib\\site-packages\\sklearn\\base.py:464: UserWarning: X does not have valid feature names, but GaussianNB was fitted with feature names\n",
      "  warnings.warn(\n"
     ]
    }
   ],
   "source": [
    "predicted= Gaussian_NB.predict([[2,1,0,0],[0,1,1,1],[1,0,1,0],[2,2,0,0],[1,2,1,1] ]) # 1:rain, 1:hot, 0:high, 1:weak\n",
    "print(\"Predicted Value:\", predicted)"
   ]
  },
  {
   "cell_type": "markdown",
   "id": "62ec16fb",
   "metadata": {},
   "source": [
    "# 60 40"
   ]
  },
  {
   "cell_type": "code",
   "execution_count": null,
   "id": "75044256",
   "metadata": {},
   "outputs": [],
   "source": []
  },
  {
   "cell_type": "code",
   "execution_count": 125,
   "id": "1c1bdc80",
   "metadata": {},
   "outputs": [
    {
     "name": "stdout",
     "output_type": "stream",
     "text": [
      "8 6 8 6\n"
     ]
    }
   ],
   "source": [
    "X_train, X_test, y_train, y_test = train_test_split(X,Y,test_size=0.4,random_state=5)\n",
    "\n",
    "print(len(X_train),len(X_test),len(y_train),len(y_test))\n",
    "#print(X_train, X_test, y_train, y_test)"
   ]
  },
  {
   "cell_type": "code",
   "execution_count": 129,
   "id": "8b3aeb57",
   "metadata": {},
   "outputs": [
    {
     "name": "stdout",
     "output_type": "stream",
     "text": [
      "Bernoulli Traing Score 0.875\n",
      "Bernoulli Test Score 0.3333333333333333\n",
      "Multinomial_NB Traing Score 0.875\n",
      "Multinomial_NB Test Score 0.3333333333333333\n",
      "Gaussian_NB Training Score 1.0\n",
      "Gaussian_NB Test Score 0.3333333333333333\n",
      "Categorical_NB Training Score 1.0\n",
      "Categorical_NB Test Score 0.5\n"
     ]
    }
   ],
   "source": [
    "#Train the model using the training sets\n",
    "Gaussian_NB.fit(X_train,y_train)\n",
    "Bernoulli_NB.fit(X_train,y_train)\n",
    "Multinomial_NB.fit(X_train,y_train)\n",
    "Categorical_NB.fit(X_train,y_train)\n",
    "\n",
    "\n",
    "#Predict the response for test dataset\n",
    "Y_Predict_GNB = Gaussian_NB.predict(X_test)\n",
    "Y_Predict_BNB = Bernoulli_NB.predict(X_test)\n",
    "Y_Predict_MNB = Multinomial_NB.predict(X_test)\n",
    "Y_Predict_CNB = Categorical_NB.predict(X_test)\n",
    "\n",
    "print(\"Bernoulli Traing Score\", Bernoulli_NB.score(X_train,y_train))\n",
    "print(\"Bernoulli Test Score\", Bernoulli_NB.score(X_test,y_test))\n",
    "\n",
    "print(\"Multinomial_NB Traing Score\", Multinomial_NB.score(X_train,y_train))\n",
    "print(\"Multinomial_NB Test Score\", Multinomial_NB.score(X_test,y_test))\n",
    "print(\"Gaussian_NB Training Score\", Gaussian_NB.score(X_train,y_train))\n",
    "print(\"Gaussian_NB Test Score\", Gaussian_NB.score(X_test,y_test))\n",
    "\n",
    "print(\"Categorical_NB Training Score\", Categorical_NB.score(X_train,y_train))\n",
    "print(\"Categorical_NB Test Score\", Categorical_NB.score(X_test,y_test))"
   ]
  },
  {
   "cell_type": "code",
   "execution_count": 127,
   "id": "4ab52ecc",
   "metadata": {},
   "outputs": [
    {
     "name": "stdout",
     "output_type": "stream",
     "text": [
      "Gaussian Accuracy: 0.3333333333333333\n",
      "Bernoulli Accuracy: 0.3333333333333333\n",
      "Multinomial Accuracy: 0.3333333333333333\n",
      "Categorical Accuracy: 0.5\n"
     ]
    }
   ],
   "source": [
    "# Model Accuracy, how often is the classifier correct?\n",
    "print(\"Gaussian Accuracy:\",metrics.accuracy_score(y_test, Y_Predict_GNB))\n",
    "print(\"Bernoulli Accuracy:\",metrics.accuracy_score(y_test, Y_Predict_BNB))\n",
    "print(\"Multinomial Accuracy:\",metrics.accuracy_score(y_test, Y_Predict_MNB))\n",
    "print(\"Categorical Accuracy:\",metrics.accuracy_score(y_test,Y_Predict_CNB))"
   ]
  },
  {
   "cell_type": "code",
   "execution_count": 128,
   "id": "ca566c2e",
   "metadata": {},
   "outputs": [
    {
     "name": "stdout",
     "output_type": "stream",
     "text": [
      "KNN Accuracy: 0.3333333333333333\n"
     ]
    }
   ],
   "source": [
    "KNN_model = KNeighborsClassifier(n_neighbors=3)\n",
    "KNN_model.fit(X_train,y_train)\n",
    "\n",
    "Y_Predict_KNN = KNN_model.predict(X_test)\n",
    "print(\"KNN Accuracy:\",metrics.accuracy_score(y_test, Y_Predict_KNN))"
   ]
  },
  {
   "cell_type": "code",
   "execution_count": null,
   "id": "1ffa7649",
   "metadata": {},
   "outputs": [],
   "source": []
  },
  {
   "cell_type": "code",
   "execution_count": null,
   "id": "d5e95b1c",
   "metadata": {},
   "outputs": [],
   "source": []
  }
 ],
 "metadata": {
  "kernelspec": {
   "display_name": "Python 3 (ipykernel)",
   "language": "python",
   "name": "python3"
  },
  "language_info": {
   "codemirror_mode": {
    "name": "ipython",
    "version": 3
   },
   "file_extension": ".py",
   "mimetype": "text/x-python",
   "name": "python",
   "nbconvert_exporter": "python",
   "pygments_lexer": "ipython3",
   "version": "3.11.5"
  }
 },
 "nbformat": 4,
 "nbformat_minor": 5
}
