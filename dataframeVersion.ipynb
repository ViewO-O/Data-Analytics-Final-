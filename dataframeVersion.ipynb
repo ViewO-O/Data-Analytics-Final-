{
 "cells": [
  {
   "cell_type": "code",
   "execution_count": 10,
   "id": "1c10eb13-9f55-407b-af4e-59bcf777771b",
   "metadata": {},
   "outputs": [],
   "source": [
    "import pandas as pd\n",
    "import numpy as np"
   ]
  },
  {
   "cell_type": "code",
   "execution_count": 11,
   "id": "aba1651a-f017-4306-ab77-8833f0d10905",
   "metadata": {},
   "outputs": [],
   "source": [
    "data = pd.DataFrame()\n",
    "\n",
    "data['play'] =['No','No','Yes','Yes','Yes','No','Yes','No','Yes','Yes','Yes','Yes','Yes','No']"
   ]
  },
  {
   "cell_type": "code",
   "execution_count": 12,
   "id": "1db0c88d-5421-47c3-a44f-887f453d2e0d",
   "metadata": {},
   "outputs": [],
   "source": [
    "#attributes\n",
    "data['weather'] = ['Sunny','Sunny','Overcast','Rainy','Rainy','Rainy','Overcast','Sunny','Sunny',\n",
    "                   'Rainy','Sunny','Overcast','Overcast','Rainy']\n",
    "data['temp'] = ['Hot','Hot','Hot','Mild','Cool','Cool','Cool','Mild','Cool','Mild','Mild','Mild','Hot','Mild']\n",
    "data['windy'] = ['Strong','Strong','Weak','Weak','Strong','Weak','Strong','Weak',\n",
    "                 'Weak','Strong','Weak','Weak','Strong','Weak']"
   ]
  },
  {
   "cell_type": "code",
   "execution_count": 16,
   "id": "831b90de-a116-4886-b347-4925640b31e4",
   "metadata": {},
   "outputs": [
    {
     "data": {
      "text/html": [
       "<div>\n",
       "<style scoped>\n",
       "    .dataframe tbody tr th:only-of-type {\n",
       "        vertical-align: middle;\n",
       "    }\n",
       "\n",
       "    .dataframe tbody tr th {\n",
       "        vertical-align: top;\n",
       "    }\n",
       "\n",
       "    .dataframe thead th {\n",
       "        text-align: right;\n",
       "    }\n",
       "</style>\n",
       "<table border=\"1\" class=\"dataframe\">\n",
       "  <thead>\n",
       "    <tr style=\"text-align: right;\">\n",
       "      <th></th>\n",
       "      <th>play</th>\n",
       "      <th>weather</th>\n",
       "      <th>temp</th>\n",
       "      <th>windy</th>\n",
       "    </tr>\n",
       "  </thead>\n",
       "  <tbody>\n",
       "    <tr>\n",
       "      <th>0</th>\n",
       "      <td>No</td>\n",
       "      <td>Sunny</td>\n",
       "      <td>Hot</td>\n",
       "      <td>Strong</td>\n",
       "    </tr>\n",
       "    <tr>\n",
       "      <th>1</th>\n",
       "      <td>No</td>\n",
       "      <td>Sunny</td>\n",
       "      <td>Hot</td>\n",
       "      <td>Strong</td>\n",
       "    </tr>\n",
       "    <tr>\n",
       "      <th>2</th>\n",
       "      <td>Yes</td>\n",
       "      <td>Overcast</td>\n",
       "      <td>Hot</td>\n",
       "      <td>Weak</td>\n",
       "    </tr>\n",
       "    <tr>\n",
       "      <th>3</th>\n",
       "      <td>Yes</td>\n",
       "      <td>Rainy</td>\n",
       "      <td>Mild</td>\n",
       "      <td>Weak</td>\n",
       "    </tr>\n",
       "    <tr>\n",
       "      <th>4</th>\n",
       "      <td>Yes</td>\n",
       "      <td>Rainy</td>\n",
       "      <td>Cool</td>\n",
       "      <td>Strong</td>\n",
       "    </tr>\n",
       "    <tr>\n",
       "      <th>5</th>\n",
       "      <td>No</td>\n",
       "      <td>Rainy</td>\n",
       "      <td>Cool</td>\n",
       "      <td>Weak</td>\n",
       "    </tr>\n",
       "    <tr>\n",
       "      <th>6</th>\n",
       "      <td>Yes</td>\n",
       "      <td>Overcast</td>\n",
       "      <td>Cool</td>\n",
       "      <td>Strong</td>\n",
       "    </tr>\n",
       "    <tr>\n",
       "      <th>7</th>\n",
       "      <td>No</td>\n",
       "      <td>Sunny</td>\n",
       "      <td>Mild</td>\n",
       "      <td>Weak</td>\n",
       "    </tr>\n",
       "    <tr>\n",
       "      <th>8</th>\n",
       "      <td>Yes</td>\n",
       "      <td>Sunny</td>\n",
       "      <td>Cool</td>\n",
       "      <td>Weak</td>\n",
       "    </tr>\n",
       "    <tr>\n",
       "      <th>9</th>\n",
       "      <td>Yes</td>\n",
       "      <td>Rainy</td>\n",
       "      <td>Mild</td>\n",
       "      <td>Strong</td>\n",
       "    </tr>\n",
       "    <tr>\n",
       "      <th>10</th>\n",
       "      <td>Yes</td>\n",
       "      <td>Sunny</td>\n",
       "      <td>Mild</td>\n",
       "      <td>Weak</td>\n",
       "    </tr>\n",
       "    <tr>\n",
       "      <th>11</th>\n",
       "      <td>Yes</td>\n",
       "      <td>Overcast</td>\n",
       "      <td>Mild</td>\n",
       "      <td>Weak</td>\n",
       "    </tr>\n",
       "    <tr>\n",
       "      <th>12</th>\n",
       "      <td>Yes</td>\n",
       "      <td>Overcast</td>\n",
       "      <td>Hot</td>\n",
       "      <td>Strong</td>\n",
       "    </tr>\n",
       "    <tr>\n",
       "      <th>13</th>\n",
       "      <td>No</td>\n",
       "      <td>Rainy</td>\n",
       "      <td>Mild</td>\n",
       "      <td>Weak</td>\n",
       "    </tr>\n",
       "  </tbody>\n",
       "</table>\n",
       "</div>"
      ],
      "text/plain": [
       "   play   weather  temp   windy\n",
       "0    No     Sunny   Hot  Strong\n",
       "1    No     Sunny   Hot  Strong\n",
       "2   Yes  Overcast   Hot    Weak\n",
       "3   Yes     Rainy  Mild    Weak\n",
       "4   Yes     Rainy  Cool  Strong\n",
       "5    No     Rainy  Cool    Weak\n",
       "6   Yes  Overcast  Cool  Strong\n",
       "7    No     Sunny  Mild    Weak\n",
       "8   Yes     Sunny  Cool    Weak\n",
       "9   Yes     Rainy  Mild  Strong\n",
       "10  Yes     Sunny  Mild    Weak\n",
       "11  Yes  Overcast  Mild    Weak\n",
       "12  Yes  Overcast   Hot  Strong\n",
       "13   No     Rainy  Mild    Weak"
      ]
     },
     "execution_count": 16,
     "metadata": {},
     "output_type": "execute_result"
    }
   ],
   "source": [
    "data"
   ]
  },
  {
   "cell_type": "code",
   "execution_count": 17,
   "id": "d178f5f9-e73c-4e5f-82d1-3b1d7c424b8d",
   "metadata": {},
   "outputs": [
    {
     "data": {
      "text/html": [
       "<div>\n",
       "<style scoped>\n",
       "    .dataframe tbody tr th:only-of-type {\n",
       "        vertical-align: middle;\n",
       "    }\n",
       "\n",
       "    .dataframe tbody tr th {\n",
       "        vertical-align: top;\n",
       "    }\n",
       "\n",
       "    .dataframe thead th {\n",
       "        text-align: right;\n",
       "    }\n",
       "</style>\n",
       "<table border=\"1\" class=\"dataframe\">\n",
       "  <thead>\n",
       "    <tr style=\"text-align: right;\">\n",
       "      <th></th>\n",
       "      <th>weather</th>\n",
       "      <th>temp</th>\n",
       "      <th>windy</th>\n",
       "    </tr>\n",
       "  </thead>\n",
       "  <tbody>\n",
       "    <tr>\n",
       "      <th>0</th>\n",
       "      <td>rainy</td>\n",
       "      <td>cool</td>\n",
       "      <td>weak</td>\n",
       "    </tr>\n",
       "  </tbody>\n",
       "</table>\n",
       "</div>"
      ],
      "text/plain": [
       "  weather  temp windy\n",
       "0   rainy  cool  weak"
      ]
     },
     "execution_count": 17,
     "metadata": {},
     "output_type": "execute_result"
    }
   ],
   "source": [
    "new = pd.DataFrame()\n",
    "\n",
    "# สร้างข้อมูลที่เป็น new data \n",
    "new['weather'] = ['rainy']\n",
    "new['temp'] = ['cool']\n",
    "new['windy'] = ['weak']\n",
    "\n",
    "# View the data \n",
    "new"
   ]
  },
  {
   "cell_type": "markdown",
   "id": "84d1519d-2b82-45fe-a7ee-0fd135037d88",
   "metadata": {},
   "source": [
    "# สภาพอากาศแบบนี้จะมีคนเล่นเทนนิสหรือไม่"
   ]
  },
  {
   "cell_type": "code",
   "execution_count": 22,
   "id": "c218260c-51ca-4734-8abf-31bea511fce4",
   "metadata": {},
   "outputs": [
    {
     "name": "stdout",
     "output_type": "stream",
     "text": [
      "9 5 14\n"
     ]
    }
   ],
   "source": [
    "# นับจำนวน yes\n",
    "n_yes = len(data[data['play'] == 'Yes'])  #len(object) เป็น function ใช้นับจำนวน object\n",
    "\n",
    "# นับจำนวน no\n",
    "n_no = len(data[data['play'] == 'No']) \n",
    "\n",
    "# นับจำนวนที่เล่นทั้งหมด\n",
    "total_play = len(data['play'])\n",
    "\n",
    "print(n_yes,n_no,total_play)"
   ]
  },
  {
   "cell_type": "code",
   "execution_count": 21,
   "id": "8f1e7788-f032-4690-9b9d-b92da1ec2300",
   "metadata": {},
   "outputs": [
    {
     "data": {
      "text/plain": [
       "3"
      ]
     },
     "execution_count": 21,
     "metadata": {},
     "output_type": "execute_result"
    }
   ],
   "source": [
    "n_rain_yes = len(data[(data['weather'] == 'Rainy') & (data['play'] == 'Yes')])\n",
    "n_rain_yes"
   ]
  },
  {
   "cell_type": "code",
   "execution_count": 23,
   "id": "0cf18727-9a57-4346-9581-b00196a781a5",
   "metadata": {},
   "outputs": [
    {
     "data": {
      "text/plain": [
       "3"
      ]
     },
     "execution_count": 23,
     "metadata": {},
     "output_type": "execute_result"
    }
   ],
   "source": [
    "n_cool_yes = len(data[(data['temp'] == 'Cool') & (data['play'] == 'Yes')])\n",
    "n_cool_yes"
   ]
  },
  {
   "cell_type": "code",
   "execution_count": 24,
   "id": "be5eacd1-0fce-474a-a1ed-df6adc47b33f",
   "metadata": {},
   "outputs": [
    {
     "data": {
      "text/plain": [
       "5"
      ]
     },
     "execution_count": 24,
     "metadata": {},
     "output_type": "execute_result"
    }
   ],
   "source": [
    "n_weak_yes = len(data[(data['windy'] == 'Weak') & (data['play'] == 'Yes')])\n",
    "n_weak_yes"
   ]
  },
  {
   "cell_type": "code",
   "execution_count": 31,
   "id": "a8ead87d-eb53-4cfd-a4a7-f67713541e2e",
   "metadata": {},
   "outputs": [
    {
     "data": {
      "text/plain": [
       "2"
      ]
     },
     "execution_count": 31,
     "metadata": {},
     "output_type": "execute_result"
    }
   ],
   "source": [
    "n_rain_no = len(data[(data['weather'] == 'Rainy') & (data['play'] == 'No')])\n",
    "n_rain_no"
   ]
  },
  {
   "cell_type": "code",
   "execution_count": 29,
   "id": "433a005b-6533-4bb1-b9dd-26af628e7a68",
   "metadata": {},
   "outputs": [
    {
     "data": {
      "text/plain": [
       "1"
      ]
     },
     "execution_count": 29,
     "metadata": {},
     "output_type": "execute_result"
    }
   ],
   "source": [
    "n_cool_no = len(data[(data['temp'] == 'Cool') & (data['play'] == 'No')])\n",
    "n_cool_no"
   ]
  },
  {
   "cell_type": "code",
   "execution_count": 30,
   "id": "f6d4d3ad-15de-421b-bb21-212108a3d82b",
   "metadata": {},
   "outputs": [
    {
     "data": {
      "text/plain": [
       "3"
      ]
     },
     "execution_count": 30,
     "metadata": {},
     "output_type": "execute_result"
    }
   ],
   "source": [
    "n_weak_no = len(data[(data['windy'] == 'Weak') & (data['play'] == 'No')])\n",
    "n_weak_no"
   ]
  },
  {
   "cell_type": "code",
   "execution_count": 33,
   "id": "e579dd13-1133-4593-8926-27b83e58cec2",
   "metadata": {},
   "outputs": [
    {
     "data": {
      "text/plain": [
       "0.3333333333333333"
      ]
     },
     "execution_count": 33,
     "metadata": {},
     "output_type": "execute_result"
    }
   ],
   "source": [
    "p_yes = n_yes/total_play \n",
    "p_no = n_no/total_play\n",
    "\n",
    "p_rain_yes = n_rain_yes/n_yes\n",
    "p_rain_yes"
   ]
  },
  {
   "cell_type": "code",
   "execution_count": 34,
   "id": "3519a337-93e8-4edc-8c93-4c9500f9ee04",
   "metadata": {},
   "outputs": [
    {
     "data": {
      "text/plain": [
       "0.3333333333333333"
      ]
     },
     "execution_count": 34,
     "metadata": {},
     "output_type": "execute_result"
    }
   ],
   "source": [
    "p_cool_yes = n_cool_yes/n_yes\n",
    "p_cool_yes"
   ]
  },
  {
   "cell_type": "code",
   "execution_count": 35,
   "id": "2d7c41ea-c4b7-4a0a-bca3-1b69cd920321",
   "metadata": {},
   "outputs": [
    {
     "data": {
      "text/plain": [
       "0.5555555555555556"
      ]
     },
     "execution_count": 35,
     "metadata": {},
     "output_type": "execute_result"
    }
   ],
   "source": [
    "p_weak_yes = n_weak_yes/n_yes\n",
    "p_weak_yes"
   ]
  },
  {
   "cell_type": "code",
   "execution_count": 36,
   "id": "b94c4dad-cc8c-47b3-bbf7-d25f7130f598",
   "metadata": {},
   "outputs": [
    {
     "data": {
      "text/plain": [
       "0.4"
      ]
     },
     "execution_count": 36,
     "metadata": {},
     "output_type": "execute_result"
    }
   ],
   "source": [
    "p_rain_no = n_rain_no/n_no\n",
    "p_rain_no"
   ]
  },
  {
   "cell_type": "code",
   "execution_count": 37,
   "id": "759d4fc3-3281-436f-9984-1ed8e0407468",
   "metadata": {},
   "outputs": [
    {
     "data": {
      "text/plain": [
       "0.2"
      ]
     },
     "execution_count": 37,
     "metadata": {},
     "output_type": "execute_result"
    }
   ],
   "source": [
    "p_cool_no = n_cool_no/n_no\n",
    "p_cool_no"
   ]
  },
  {
   "cell_type": "code",
   "execution_count": 38,
   "id": "97cd7081-0866-4f9d-8243-1486773598c1",
   "metadata": {},
   "outputs": [
    {
     "data": {
      "text/plain": [
       "0.6"
      ]
     },
     "execution_count": 38,
     "metadata": {},
     "output_type": "execute_result"
    }
   ],
   "source": [
    "p_weak_no = n_weak_no/n_no\n",
    "p_weak_no"
   ]
  },
  {
   "cell_type": "code",
   "execution_count": 47,
   "id": "ef742c66-1bf1-47f4-99b8-2c0e8f28be9b",
   "metadata": {},
   "outputs": [],
   "source": [
    "p_rain_cool_weak_yes = p_rain_yes * p_cool_yes * p_weak_yes * p_yes\n",
    "p_rain_cool_weak_no = p_rain_no * p_cool_no * p_weak_no * p_no\n",
    "\n"
   ]
  },
  {
   "cell_type": "code",
   "execution_count": 48,
   "id": "36789367-4057-49f5-90ab-59a9b83e53de",
   "metadata": {},
   "outputs": [
    {
     "name": "stdout",
     "output_type": "stream",
     "text": [
      "0.3333333333333333 0.3333333333333333 0.5555555555555556 0.6428571428571429\n"
     ]
    }
   ],
   "source": [
    "print(p_rain_yes,p_cool_yes,p_weak_yes,p_yes)"
   ]
  },
  {
   "cell_type": "code",
   "execution_count": 49,
   "id": "0472975a-4189-4efa-a46c-e78e7fc62b8f",
   "metadata": {},
   "outputs": [
    {
     "name": "stdout",
     "output_type": "stream",
     "text": [
      "0.4 0.2 0.6 0.35714285714285715\n"
     ]
    }
   ],
   "source": [
    "print(p_rain_no,p_cool_no,p_weak_no,p_no)"
   ]
  },
  {
   "cell_type": "code",
   "execution_count": 50,
   "id": "414a0a94-cb35-4341-8f80-8df2cad78109",
   "metadata": {},
   "outputs": [
    {
     "name": "stdout",
     "output_type": "stream",
     "text": [
      "p_rain_cool_weak_yes =  0.03968253968253968\n",
      "p_rain_cool_weak_no =  0.017142857142857147\n"
     ]
    }
   ],
   "source": [
    "print('p_rain_cool_weak_yes = ', p_rain_cool_weak_yes)\n",
    "print('p_rain_cool_weak_no = ', p_rain_cool_weak_no)"
   ]
  },
  {
   "cell_type": "markdown",
   "id": "bb2c4178-82b5-4c5f-b2ce-297c69c5c0f6",
   "metadata": {},
   "source": [
    "##  ค่า P(play = no|new) (=0.01714) มีค่ามากกว่า P(play = yes|new) (=0.03968) ดังนั้นโมเดลจึงทำนายว่าข้อมูลตัวอย่างนี้มีค่าคลาส play = yes เล่น tennis"
   ]
  },
  {
   "cell_type": "code",
   "execution_count": null,
   "id": "76262a10-20e0-40b6-953b-93cfa70a5bed",
   "metadata": {},
   "outputs": [],
   "source": []
  }
 ],
 "metadata": {
  "kernelspec": {
   "display_name": "Python 3 (ipykernel)",
   "language": "python",
   "name": "python3"
  },
  "language_info": {
   "codemirror_mode": {
    "name": "ipython",
    "version": 3
   },
   "file_extension": ".py",
   "mimetype": "text/x-python",
   "name": "python",
   "nbconvert_exporter": "python",
   "pygments_lexer": "ipython3",
   "version": "3.11.7"
  }
 },
 "nbformat": 4,
 "nbformat_minor": 5
}
